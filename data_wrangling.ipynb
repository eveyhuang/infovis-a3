{
 "cells": [
  {
   "cell_type": "code",
   "execution_count": 1,
   "id": "d3a054e0-4c83-4553-a693-e29a86bc4ef4",
   "metadata": {},
   "outputs": [],
   "source": [
    "import pandas as pd"
   ]
  },
  {
   "cell_type": "code",
   "execution_count": 9,
   "id": "cd0782b4-56dd-4e28-9709-7d2aee67cfa3",
   "metadata": {},
   "outputs": [],
   "source": [
    "ls = pd.read_csv('data/Lower Secondary.csv', encoding='latin')\n",
    "pr = pd.read_csv('data/Primary.csv', encoding='latin')\n",
    "us = pd.read_csv('data/Upper Secondary.csv', encoding='latin')"
   ]
  },
  {
   "cell_type": "code",
   "execution_count": 10,
   "id": "afbc7df4-2e45-49cd-a4fb-0ec31f1d30f7",
   "metadata": {},
   "outputs": [],
   "source": [
    "ls['Level'] = ['Lower-Secondary']*ls.shape[0]\n",
    "us['Level'] = ['Upper-Secondary']*us.shape[0]\n",
    "pr['Level'] = ['Primary']*pr.shape[0]"
   ]
  },
  {
   "cell_type": "code",
   "execution_count": 11,
   "id": "6f7e3771-f598-463f-9ff5-595c0e1fd29b",
   "metadata": {},
   "outputs": [
    {
     "data": {
      "text/plain": [
       "ECA     54\n",
       "SSA     49\n",
       "LAC     37\n",
       "EAP     33\n",
       "MENA    19\n",
       "SA       8\n",
       "Name: Region, dtype: int64"
      ]
     },
     "execution_count": 11,
     "metadata": {},
     "output_type": "execute_result"
    }
   ],
   "source": [
    "ls['Region'].value_counts()"
   ]
  },
  {
   "cell_type": "code",
   "execution_count": 14,
   "id": "a1b1f133-4538-4210-9266-7525a28311eb",
   "metadata": {},
   "outputs": [],
   "source": [
    "ls = ls.loc[ls['Region']=='SA'].reset_index(drop=True)\n",
    "us = us.loc[us['Region']=='SA'].reset_index(drop=True)\n",
    "pr = pr.loc[pr['Region']=='SA'].reset_index(drop=True)"
   ]
  },
  {
   "cell_type": "code",
   "execution_count": 25,
   "id": "ba9f11b3-f266-4adc-a767-8d3c0b5befee",
   "metadata": {},
   "outputs": [],
   "source": [
    "all_levels = pd.concat([pr, ls, us], axis=0).reset_index(drop=True)"
   ]
  },
  {
   "cell_type": "code",
   "execution_count": 26,
   "id": "afd3e781-588c-4df4-b7ef-e4a7ae97164e",
   "metadata": {},
   "outputs": [
    {
     "data": {
      "text/plain": [
       "Primary            8\n",
       "Lower-Secondary    8\n",
       "Upper-Secondary    8\n",
       "Name: Level, dtype: int64"
      ]
     },
     "execution_count": 26,
     "metadata": {},
     "output_type": "execute_result"
    }
   ],
   "source": [
    "all_levels['Level'].value_counts()"
   ]
  },
  {
   "cell_type": "code",
   "execution_count": 27,
   "id": "ecdde8b4-432f-4d81-9c7a-5eda6fa76937",
   "metadata": {},
   "outputs": [],
   "source": [
    "all_levels.to_csv('data/all_levels.csv', index=False)"
   ]
  },
  {
   "cell_type": "code",
   "execution_count": null,
   "id": "c35c4bc8-9454-4da4-882d-105cbcdf6541",
   "metadata": {},
   "outputs": [],
   "source": []
  }
 ],
 "metadata": {
  "kernelspec": {
   "display_name": "Python 3 (ipykernel)",
   "language": "python",
   "name": "python3"
  },
  "language_info": {
   "codemirror_mode": {
    "name": "ipython",
    "version": 3
   },
   "file_extension": ".py",
   "mimetype": "text/x-python",
   "name": "python",
   "nbconvert_exporter": "python",
   "pygments_lexer": "ipython3",
   "version": "3.8.12"
  }
 },
 "nbformat": 4,
 "nbformat_minor": 5
}
